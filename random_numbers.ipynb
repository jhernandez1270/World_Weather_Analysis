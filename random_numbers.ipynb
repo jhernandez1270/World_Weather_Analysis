{
 "cells": [
  {
   "cell_type": "code",
   "execution_count": 1,
   "id": "d19e7a78",
   "metadata": {},
   "outputs": [],
   "source": [
    "# IMport the random module.\n",
    "import random"
   ]
  },
  {
   "cell_type": "code",
   "execution_count": 2,
   "id": "3f0c9871",
   "metadata": {},
   "outputs": [
    {
     "data": {
      "text/plain": [
       "59"
      ]
     },
     "execution_count": 2,
     "metadata": {},
     "output_type": "execute_result"
    }
   ],
   "source": [
    "random.randint(-90,90)"
   ]
  },
  {
   "cell_type": "code",
   "execution_count": 3,
   "id": "eb4dc661",
   "metadata": {},
   "outputs": [
    {
     "data": {
      "text/plain": [
       "0.05617603503798674"
      ]
     },
     "execution_count": 3,
     "metadata": {},
     "output_type": "execute_result"
    }
   ],
   "source": [
    "random.random()"
   ]
  },
  {
   "cell_type": "code",
   "execution_count": 4,
   "id": "e1502cd7",
   "metadata": {},
   "outputs": [
    {
     "data": {
      "text/plain": [
       "[56.75401017752725,\n",
       " -64.04875727781894,\n",
       " -24.4150533379716,\n",
       " 36.58059693437369,\n",
       " 8.861340456048836,\n",
       " 20.535502938598658,\n",
       " -18.804024728711,\n",
       " -54.421762096062565,\n",
       " 22.40365477749271,\n",
       " -57.499255952448436]"
      ]
     },
     "execution_count": 4,
     "metadata": {},
     "output_type": "execute_result"
    }
   ],
   "source": [
    "x = 1\n",
    "latitudes = []\n",
    "while x < 11:\n",
    "    random_lat = random.randint(-90, 89) + random.random()\n",
    "    latitudes.append(random_lat)\n",
    "    x += 1\n",
    "\n",
    "latitudes"
   ]
  },
  {
   "cell_type": "code",
   "execution_count": 6,
   "id": "a4ec0999",
   "metadata": {},
   "outputs": [
    {
     "data": {
      "text/plain": [
       "87"
      ]
     },
     "execution_count": 6,
     "metadata": {},
     "output_type": "execute_result"
    }
   ],
   "source": [
    "random.randrange(-90,90,3)"
   ]
  },
  {
   "cell_type": "code",
   "execution_count": 7,
   "id": "505cd350",
   "metadata": {},
   "outputs": [],
   "source": [
    "# Import the NumPy module.\n",
    "import numpy as np"
   ]
  },
  {
   "cell_type": "code",
   "execution_count": 8,
   "id": "0a3ae87b",
   "metadata": {},
   "outputs": [
    {
     "data": {
      "text/plain": [
       "75.33332178521559"
      ]
     },
     "execution_count": 8,
     "metadata": {},
     "output_type": "execute_result"
    }
   ],
   "source": [
    "np.random.uniform(-90.000, 90.000)"
   ]
  },
  {
   "cell_type": "code",
   "execution_count": 9,
   "id": "5d60412f",
   "metadata": {},
   "outputs": [
    {
     "data": {
      "text/plain": [
       "array([-17.17294163, -65.30854441,  83.62150282,  50.45302818,\n",
       "       -74.22084735, -36.63444085, -87.01389112, -55.3707213 ,\n",
       "        63.37506145,  41.78279922,  52.90164878,   1.68854871,\n",
       "       -55.57055664, -10.86216818,  56.58129339,  68.49203323,\n",
       "        -2.24458222, -83.73928875,  68.48435242,  55.46654127,\n",
       "       -23.15580526, -80.48170005,   3.56994441,  65.54896948,\n",
       "        83.90704546, -17.63988515, -66.81463872,  18.47382522,\n",
       "         6.09233661,  81.50681051,  25.47464925, -34.18355442,\n",
       "        38.1720277 , -30.52555513, -83.27858241,  24.66223498,\n",
       "        75.67048316, -22.77962784, -76.26278974,  49.1029569 ,\n",
       "       -31.12673188, -65.02749418, -47.98896704,  35.87458252,\n",
       "       -13.47505729,  76.50718031,   4.34559054,  71.73197283,\n",
       "        15.33255814, -45.68073235])"
      ]
     },
     "execution_count": 9,
     "metadata": {},
     "output_type": "execute_result"
    }
   ],
   "source": [
    "np.random.uniform(-90.000, 90.000, size=50)"
   ]
  },
  {
   "cell_type": "code",
   "execution_count": 12,
   "id": "e13c0b8b",
   "metadata": {},
   "outputs": [],
   "source": [
    "# Import timeit.\n",
    "import timeit"
   ]
  },
  {
   "cell_type": "code",
   "execution_count": 11,
   "id": "f003956a",
   "metadata": {},
   "outputs": [
    {
     "name": "stdout",
     "output_type": "stream",
     "text": [
      "17.9 µs ± 4.68 µs per loop (mean ± std. dev. of 7 runs, 100000 loops each)\n"
     ]
    }
   ],
   "source": [
    "%timeit np.random.uniform(-90.000, 90.000, size=1500)"
   ]
  },
  {
   "cell_type": "code",
   "execution_count": 13,
   "id": "bcfe9c38",
   "metadata": {},
   "outputs": [
    {
     "name": "stdout",
     "output_type": "stream",
     "text": [
      "1.4 ms ± 27 µs per loop (mean ± std. dev. of 7 runs, 1000 loops each)\n"
     ]
    }
   ],
   "source": [
    "def latitudes(size):\n",
    "    latitudes = []\n",
    "    x = 0\n",
    "    while x < (size):\n",
    "        random_lat = random.randint(-90, 90) + random.random()\n",
    "        latitudes.append(random_lat)\n",
    "        x += 1\n",
    "    return latitudes\n",
    "# Call the function with 1500.\n",
    "%timeit latitudes(1500)"
   ]
  },
  {
   "cell_type": "code",
   "execution_count": 14,
   "id": "e9d35276",
   "metadata": {},
   "outputs": [
    {
     "name": "stdout",
     "output_type": "stream",
     "text": [
      "1.36 ms ± 6.63 µs per loop (mean ± std. dev. of 7 runs, 1000 loops each)\n"
     ]
    }
   ],
   "source": [
    "# Refactor while loop for for loop\n",
    "def latitudes(size):\n",
    "    latitudes = []\n",
    "    x = 0\n",
    "    for x in range(size):\n",
    "        random_lat = random.randint(-90, 90) + random.random()\n",
    "        latitudes.append(random_lat)\n",
    "        x += 1\n",
    "    return latitudes\n",
    "# Call the function with 1500.\n",
    "%timeit latitudes(1500)"
   ]
  },
  {
   "cell_type": "code",
   "execution_count": null,
   "id": "31c1532b",
   "metadata": {},
   "outputs": [],
   "source": []
  }
 ],
 "metadata": {
  "kernelspec": {
   "display_name": "PythonData",
   "language": "python",
   "name": "pythondata"
  },
  "language_info": {
   "codemirror_mode": {
    "name": "ipython",
    "version": 3
   },
   "file_extension": ".py",
   "mimetype": "text/x-python",
   "name": "python",
   "nbconvert_exporter": "python",
   "pygments_lexer": "ipython3",
   "version": "3.9.7"
  }
 },
 "nbformat": 4,
 "nbformat_minor": 5
}
